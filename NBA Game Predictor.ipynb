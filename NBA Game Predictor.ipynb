{
 "cells": [
  {
   "cell_type": "code",
   "execution_count": 40,
   "metadata": {},
   "outputs": [],
   "source": [
    "import platform\n",
    "import sklearn\n",
    "import pandas as pd\n",
    "import numpy as np\n",
    "import os\n",
    "from __future__ import division\n",
    "from sklearn.tree import DecisionTreeClassifier\n",
    "from sklearn.cross_validation import cross_val_score"
   ]
  },
  {
   "cell_type": "code",
   "execution_count": 41,
   "metadata": {
    "collapsed": true
   },
   "outputs": [],
   "source": [
    "season_data = (\"nba_season_data.csv\")"
   ]
  },
  {
   "cell_type": "code",
   "execution_count": 42,
   "metadata": {
    "collapsed": true
   },
   "outputs": [],
   "source": [
    "from sklearn.metrics import f1_score, make_scorer, classification_report\n",
    "scorer = make_scorer(f1_score, pos_label=None, average='weighted')"
   ]
  },
  {
   "cell_type": "code",
   "execution_count": 43,
   "metadata": {
    "collapsed": true
   },
   "outputs": [],
   "source": [
    "results = pd.read_csv(season_data, parse_dates=[\"Date\"])\n",
    "results.rename(columns = {'Visitor/Neutral':'Visitor', 'PTS':'VisitorPts', 'Home/Neutral':'Home', 'PTS.1':'HomePts', 'Unnamed:6':'Score Type', 'Unnamed: 7':'OT?'}, inplace = True)\n",
    "results[\"VisitorPts\"] = results[\"VisitorPts\"].apply(pd.to_numeric, errors='coerce')\n",
    "results[\"HomePts\"] = results[\"HomePts\"].apply(pd.to_numeric, errors='coerce')\n",
    "results[\"Home Team Win\"] = results[\"HomePts\"] > results[\"VisitorPts\"]"
   ]
  },
  {
   "cell_type": "code",
   "execution_count": 44,
   "metadata": {
    "collapsed": true
   },
   "outputs": [],
   "source": [
    "num_games = results[\"Home Team Win\"].count()\n",
    "num_home_wins = results[\"Home Team Win\"].sum()\n",
    "home_win_percentage =  (num_home_wins/num_games * 100)"
   ]
  },
  {
   "cell_type": "code",
   "execution_count": null,
   "metadata": {
    "collapsed": true
   },
   "outputs": [],
   "source": []
  },
  {
   "cell_type": "code",
   "execution_count": 45,
   "metadata": {},
   "outputs": [
    {
     "name": "stderr",
     "output_type": "stream",
     "text": [
      "/Users/TanmayGhai/anaconda2/lib/python2.7/site-packages/ipykernel_launcher.py:12: DeprecationWarning: \n",
      ".ix is deprecated. Please use\n",
      ".loc for label based indexing or\n",
      ".iloc for positional indexing\n",
      "\n",
      "See the documentation here:\n",
      "http://pandas.pydata.org/pandas-docs/stable/indexing.html#deprecate_ix\n",
      "  if sys.path[0] == '':\n"
     ]
    },
    {
     "name": "stdout",
     "output_type": "stream",
     "text": [
      "Using just the last result from the home and visitor teams\n",
      "F1: 0.4269\n"
     ]
    }
   ],
   "source": [
    "#CLASSIFICATION BASED ON LAST GAMES FOR TEAMS\n",
    "from collections import defaultdict\n",
    "results[\"Home Last Win\"] = False\n",
    "results[\"Visitor Last Win\"] = False\n",
    "won_last = defaultdict(int)\n",
    "\n",
    "for i, r in results.iterrows():\n",
    "    home_team = r[\"Home\"]\n",
    "    visitor_team = r[\"Visitor\"]\n",
    "    r[\"Home Last Win\"] = won_last[home_team]\n",
    "    r[\"Visitor Last Win\"] = won_last[visitor_team]\n",
    "    results.ix[i] = r\n",
    "    won_last[home_team] = r[\"Home Last Win\"]\n",
    "    won_last[visitor_team] = not r[\"Home Last Win\"]\n",
    "\n",
    "clf = DecisionTreeClassifier(random_state=14)\n",
    "x_previouswins = results[['Home Last Win', 'Visitor Last Win']].values\n",
    "clf = DecisionTreeClassifier(random_state=14)\n",
    "scores = cross_val_score(clf, x_previouswins, results[\"Home Team Win\"].values, scoring=scorer)\n",
    "print(\"Using just the last result from the home and visitor teams\")\n",
    "print(\"F1: {0:.4f}\".format(np.mean(scores)))"
   ]
  },
  {
   "cell_type": "code",
   "execution_count": 46,
   "metadata": {},
   "outputs": [
    {
     "name": "stdout",
     "output_type": "stream",
     "text": [
      "Using whether the home team has a win streak\n",
      "F1: 0.5291\n"
     ]
    }
   ],
   "source": [
    "#CLASSIFICATION BASED ON WIN STREAKS FOR TEAMS\n",
    "from collections import defaultdict\n",
    "results[\"Home Win Streak\"] = 0\n",
    "results[\"Visitor Win Streak\"] = 0\n",
    "win_streak = defaultdict(int)\n",
    "\n",
    "for i, r in results.iterrows():\n",
    "    home_team = r[\"Home\"]\n",
    "    visitor_team = r[\"Visitor\"]\n",
    "    r[\"Home Win Streak\"] = win_streak[home_team]\n",
    "    r[\"Home Win Streak\"] = win_streak[visitor_team]\n",
    "    results.ix[i] = r\n",
    "    if r[\"Home Team Win\"]:\n",
    "        win_streak[home_team] += 1\n",
    "        win_streak[visitor_team] = 0\n",
    "    else:\n",
    "        win_streak[home_team] = 0\n",
    "        win_streak[visitor_team] += 1 \n",
    "\n",
    "clf = DecisionTreeClassifier(random_state=14)\n",
    "x_previouswins = results[['Home Last Win', 'Visitor Last Win', \"Home Win Streak\", \"Visitor Win Streak\"]].values\n",
    "clf = DecisionTreeClassifier(random_state=14)\n",
    "scores = cross_val_score(clf, x_previouswins, results[\"Home Team Win\"].values, scoring=scorer)\n",
    "print(\"Using whether the home team has a win streak\")\n",
    "print(\"F1: {0:.4f}\".format(np.mean(scores)))"
   ]
  },
  {
   "cell_type": "code",
   "execution_count": 134,
   "metadata": {},
   "outputs": [
    {
     "data": {
      "text/plain": [
       "Int64Index([], dtype='int64')"
      ]
     },
     "execution_count": 134,
     "metadata": {},
     "output_type": "execute_result"
    }
   ],
   "source": [
    "standings_data = (\"nba_standings_data.csv\")\n",
    "standings = pd.read_csv(standings_data, skiprows=[0])\n",
    "def home_ranked_higher(r):\n",
    "    home_team = r[\"Home\"]\n",
    "    home_team_index = standings[standings[\"Team\"] == home_team].index[0]\n",
    "    visitor_team = r[\"Visitor\"]\n",
    "    visitor_team_index = standings[standings[\"Team\"] == visitor_team].index[0]\n",
    "    home_rank = standings.loc[home_team_index][\"Rk\"]\n",
    "    visitor_rank = standings.loc[visitor_team_index][\"Rk\"]\n",
    "    return home_rank < visitor_rank\n",
    "#results[\"Home Team Ranked Higher\"] = results.apply(home_ranked_higher, axis=1)\n",
    "standings[standings[\"Team\"] == 1].index"
   ]
  },
  {
   "cell_type": "code",
   "execution_count": null,
   "metadata": {
    "collapsed": true
   },
   "outputs": [],
   "source": []
  },
  {
   "cell_type": "code",
   "execution_count": null,
   "metadata": {
    "collapsed": true
   },
   "outputs": [],
   "source": []
  },
  {
   "cell_type": "code",
   "execution_count": null,
   "metadata": {
    "collapsed": true
   },
   "outputs": [],
   "source": []
  }
 ],
 "metadata": {
  "kernelspec": {
   "display_name": "Python 2",
   "language": "python",
   "name": "python2"
  },
  "language_info": {
   "codemirror_mode": {
    "name": "ipython",
    "version": 2
   },
   "file_extension": ".py",
   "mimetype": "text/x-python",
   "name": "python",
   "nbconvert_exporter": "python",
   "pygments_lexer": "ipython2",
   "version": "2.7.13"
  }
 },
 "nbformat": 4,
 "nbformat_minor": 2
}
