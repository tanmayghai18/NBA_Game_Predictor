{
 "cells": [
  {
   "cell_type": "code",
   "execution_count": 110,
   "metadata": {
    "collapsed": true
   },
   "outputs": [],
   "source": [
    "import platform\n",
    "import sklearn\n",
    "import pandas as pd\n",
    "import numpy as np\n",
    "import os\n",
    "from __future__ import division"
   ]
  },
  {
   "cell_type": "code",
   "execution_count": 111,
   "metadata": {
    "collapsed": true
   },
   "outputs": [],
   "source": [
    "data_file = (\"nba_data.csv\")"
   ]
  },
  {
   "cell_type": "code",
   "execution_count": 112,
   "metadata": {
    "collapsed": true
   },
   "outputs": [],
   "source": [
    "from sklearn.metrics import f1_score, make_scorer, classification_report\n",
    "scorer = make_scorer(f1_score, pos_label=None, average='weighted')"
   ]
  },
  {
   "cell_type": "code",
   "execution_count": 113,
   "metadata": {},
   "outputs": [],
   "source": [
    "results = pd.read_csv(data_file, parse_dates=[\"Date\"])\n",
    "results.rename(columns = {'Visitor/Neutral':'Visitor', 'PTS':'VisitorPts', 'Home/Neutral':'Home', 'PTS.1':'HomePts', 'Unnamed:6':'Score Type', 'Unnamed: 7':'OT?'}, inplace = True)\n",
    "results[\"VisitorPts\"] = results[\"VisitorPts\"].apply(pd.to_numeric, errors='coerce')\n",
    "results[\"HomePts\"] = results[\"HomePts\"].apply(pd.to_numeric, errors='coerce')\n",
    "results[\"Home Team Win\"] = results[\"HomePts\"] > results[\"VisitorPts\"]"
   ]
  },
  {
   "cell_type": "code",
   "execution_count": 116,
   "metadata": {},
   "outputs": [],
   "source": [
    "num_games = results[\"Home Team Win\"].count()\n",
    "num_home_wins = results[\"Home Team Win\"].sum()\n",
    "home_win_percentage =  (num_home_wins/num_games * 100)"
   ]
  },
  {
   "cell_type": "code",
   "execution_count": 117,
   "metadata": {
    "collapsed": true
   },
   "outputs": [],
   "source": [
    "results[\"Home Last Win\"] = False\n",
    "results[\"Visitor Last Win\"] = False"
   ]
  },
  {
   "cell_type": "code",
   "execution_count": 121,
   "metadata": {},
   "outputs": [
    {
     "name": "stderr",
     "output_type": "stream",
     "text": [
      "/Users/TanmayGhai/anaconda2/lib/python2.7/site-packages/ipykernel_launcher.py:9: DeprecationWarning: \n",
      ".ix is deprecated. Please use\n",
      ".loc for label based indexing or\n",
      ".iloc for positional indexing\n",
      "\n",
      "See the documentation here:\n",
      "http://pandas.pydata.org/pandas-docs/stable/indexing.html#deprecate_ix\n",
      "  if __name__ == '__main__':\n"
     ]
    }
   ],
   "source": [
    "from collections import defaultdict\n",
    "won_last = defaultdict(int)\n",
    "\n",
    "for i, r in results.iterrows():\n",
    "    home_team = r[\"Home\"]\n",
    "    visitor_team = r[\"Visitor\"]\n",
    "    r[\"Home Last Win\"] = won_last[home_team]\n",
    "    r[\"Visitor Last Win\"] = won_last[visitor_team]\n",
    "    results.ix[i] = r\n",
    "    won_last[home_team] = r[\"Home Last Win\"]\n",
    "    won_last[visitor_team] = not r[\"Home Last Win\"]"
   ]
  },
  {
   "cell_type": "code",
   "execution_count": 124,
   "metadata": {},
   "outputs": [],
   "source": [
    "from sklearn.tree import DecisionTreeClassifier\n",
    "clf = DecisionTreeClassifier(random_state=14)"
   ]
  },
  {
   "cell_type": "code",
   "execution_count": null,
   "metadata": {
    "collapsed": true
   },
   "outputs": [],
   "source": []
  }
 ],
 "metadata": {
  "kernelspec": {
   "display_name": "Python 2",
   "language": "python",
   "name": "python2"
  },
  "language_info": {
   "codemirror_mode": {
    "name": "ipython",
    "version": 2
   },
   "file_extension": ".py",
   "mimetype": "text/x-python",
   "name": "python",
   "nbconvert_exporter": "python",
   "pygments_lexer": "ipython2",
   "version": "2.7.13"
  }
 },
 "nbformat": 4,
 "nbformat_minor": 2
}
